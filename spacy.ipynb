{
 "cells": [
  {
   "cell_type": "code",
   "execution_count": 108,
   "metadata": {},
   "outputs": [],
   "source": [
    "import spacy"
   ]
  },
  {
   "cell_type": "code",
   "execution_count": 109,
   "metadata": {},
   "outputs": [],
   "source": [
    "nlp=spacy.load('en')"
   ]
  },
  {
   "cell_type": "code",
   "execution_count": 33,
   "metadata": {},
   "outputs": [],
   "source": [
    "##reading texts\n",
    "doc=nlp(\"spacy is cool\")"
   ]
  },
  {
   "cell_type": "code",
   "execution_count": 5,
   "metadata": {},
   "outputs": [
    {
     "data": {
      "text/plain": [
       "spacy is cool"
      ]
     },
     "execution_count": 5,
     "metadata": {},
     "output_type": "execute_result"
    }
   ],
   "source": [
    "doc"
   ]
  },
  {
   "cell_type": "markdown",
   "metadata": {},
   "source": [
    "to read file"
   ]
  },
  {
   "cell_type": "code",
   "execution_count": 6,
   "metadata": {},
   "outputs": [],
   "source": [
    "myfile=open(\"D:\\\\RESEARCH PROJECT\\\\text classification\\\\20news-bydate-train\\\\comp.sys.mac.hardware\\\\50418\").read()"
   ]
  },
  {
   "cell_type": "code",
   "execution_count": 7,
   "metadata": {},
   "outputs": [],
   "source": [
    "doc_file=nlp(myfile)"
   ]
  },
  {
   "cell_type": "code",
   "execution_count": 8,
   "metadata": {
    "scrolled": true
   },
   "outputs": [
    {
     "data": {
      "text/plain": [
       "From: xor@clotho.acm.rpi.edu (Joe Schwartz)\n",
       "Subject: Re: NUTEK FACES APPLE'S WRATH (article!!!!!!) READ\n",
       "Article-I.D.: rpi.j3g5bwq\n",
       "Organization: MapInfo Corporation, Troy, NY\n",
       "Lines: 28\n",
       "Nntp-Posting-Host: acm.rpi.edu\n",
       "\n",
       "In article <davea-120493231310@129.228.20.182> davea@xetron.com (David P. Alverson) writes:\n",
       ">I believe Apple has a patent on the region features of QuickDraw.  A mac\n",
       ">clone would have to implement regions.  This is why Apple's comment was\n",
       ">that\n",
       ">they believe it is not possible to make a Mac clone without infringing\n",
       ">on their patents.  They may have other patents like this.\n",
       "\n",
       "Apple has patented their implementation of regions, which presumably\n",
       "includes the internal data structure (which has never been officially\n",
       "documented by Apple).  Apple cannot patent the concept of a region.\n",
       "\n",
       "I'm guessing that either NuTek reverse-engineered Apple's internal data\n",
       "structure for regions (I dunno if this would hold up in court), or they\n",
       "came up with their own data structure.  If it's the latter, then they\n",
       "won't be able to draw PICT files containing regions.  Besides PICT files,\n",
       "there aren't many places where regions are stored on disk.  (QuickTime\n",
       "movies, perhaps?)  As long as the region isn't being stored on disk and\n",
       "transferred from a Mac to a NuTek clone (or vice versa), it doesn't\n",
       "matter if NuTek uses a completely different internal data structure.\n",
       "\n",
       "I remember reading that Apple also has a patent on their ADB hardware,\n",
       "and that the NuTek clones would therefore be lacking an ADB port.  What\n",
       "other patents does Apple have on the Mac?\n",
       "-- \n",
       "Joe Schwartz       E-mail: xor@acm.rpi.edu  or  xor@clotho.acm.rpi.edu\n",
       "MapInfo Corp.\n",
       "200 Broadway       These are my own opinions.  Any similarity to the\n",
       "Troy, NY 12180     opinions of MapInfo Corporation is purely coincidental."
      ]
     },
     "execution_count": 8,
     "metadata": {},
     "output_type": "execute_result"
    }
   ],
   "source": [
    "doc_file"
   ]
  },
  {
   "cell_type": "code",
   "execution_count": 10,
   "metadata": {},
   "outputs": [],
   "source": [
    "##sent tokenize"
   ]
  },
  {
   "cell_type": "code",
   "execution_count": 11,
   "metadata": {
    "scrolled": true
   },
   "outputs": [
    {
     "name": "stdout",
     "output_type": "stream",
     "text": [
      "0:From: xor@clotho.acm.rpi.edu\n",
      "1:(Joe Schwartz)\n",
      "Subject:\n",
      "2:Re: NUTEK FACES APPLE'S\n",
      "3:WRATH (article!!!!!!)\n",
      "4:READ\n",
      "Article-I.D.:\n",
      "5:rpi.j3g5bwq\n",
      "Organization:\n",
      "6:MapInfo Corporation, Troy, NY\n",
      "Lines: 28\n",
      "\n",
      "7:Nntp-Posting-Host: acm.rpi.edu\n",
      "\n",
      "\n",
      "8:In article\n",
      "9:<davea-120493231310@129.228.20.182\n",
      "10:> davea@xetron.com\n",
      "11:(David P. Alverson) writes:\n",
      "\n",
      "12:>\n",
      "13:I believe Apple has a patent on the region features of QuickDraw.  \n",
      "14:A mac\n",
      "\n",
      "15:>clone would have to implement regions.  \n",
      "16:This is why Apple's comment was\n",
      ">that\n",
      ">they believe it is not possible to make a Mac clone without infringing\n",
      ">on their patents.  \n",
      "17:They may have other patents like this.\n",
      "\n",
      "\n",
      "18:Apple has patented their implementation of regions, which presumably\n",
      "includes the internal data structure (which has never been officially\n",
      "documented by Apple).  \n",
      "19:Apple cannot patent the concept of a region.\n",
      "\n",
      "\n",
      "20:I'm guessing that either NuTek reverse-engineered Apple's internal data\n",
      "structure for regions (I dunno if this would hold up in court), or they\n",
      "came up with their own data structure.  \n",
      "21:If it's the latter, then they\n",
      "won't be able to draw PICT files containing regions.  \n",
      "22:Besides PICT files,\n",
      "there aren't many places where regions are stored on disk.  \n",
      "23:(QuickTime\n",
      "movies, perhaps?)  \n",
      "24:As long as the region isn't being stored on disk and\n",
      "transferred from a Mac to a NuTek clone (or vice versa), it doesn't\n",
      "matter if NuTek uses a completely different internal data structure.\n",
      "\n",
      "\n",
      "25:I remember reading that Apple also has a patent on their ADB hardware,\n",
      "and that the NuTek clones would therefore be lacking an ADB port.  \n",
      "26:What\n",
      "other patents does Apple have on the Mac?\n",
      "-- \n",
      "Joe Schwartz       \n",
      "27:E-mail:\n",
      "28:xor@acm.rpi.edu  or  \n",
      "29:xor@clotho.acm.rpi.edu\n",
      "\n",
      "30:MapInfo Corp.\n",
      "\n",
      "31:200 Broadway       \n",
      "32:These are my own opinions.  \n",
      "33:Any similarity to the\n",
      "Troy,\n",
      "34:NY 12180     opinions of MapInfo Corporation is purely coincidental.\n",
      "\n"
     ]
    }
   ],
   "source": [
    "for num,sentence in enumerate(doc_file.sents):\n",
    "    print(f'{num}:{sentence}')"
   ]
  },
  {
   "cell_type": "markdown",
   "metadata": {},
   "source": [
    "tokenises based on punctuations"
   ]
  },
  {
   "cell_type": "code",
   "execution_count": 12,
   "metadata": {},
   "outputs": [
    {
     "data": {
      "text/plain": [
       "spacy is cool"
      ]
     },
     "execution_count": 12,
     "metadata": {},
     "output_type": "execute_result"
    }
   ],
   "source": [
    "doc"
   ]
  },
  {
   "cell_type": "code",
   "execution_count": 15,
   "metadata": {},
   "outputs": [
    {
     "name": "stdout",
     "output_type": "stream",
     "text": [
      "spacy\n",
      "is\n",
      "cool\n"
     ]
    }
   ],
   "source": [
    "##word tokens\n",
    "for token in doc:\n",
    "    print(token.text)"
   ]
  },
  {
   "cell_type": "code",
   "execution_count": 17,
   "metadata": {},
   "outputs": [
    {
     "data": {
      "text/plain": [
       "['spacy', 'is', 'cool']"
      ]
     },
     "execution_count": 17,
     "metadata": {},
     "output_type": "execute_result"
    }
   ],
   "source": [
    "##List of word tokens\n",
    "[token.text for token in doc]"
   ]
  },
  {
   "cell_type": "code",
   "execution_count": 18,
   "metadata": {},
   "outputs": [
    {
     "data": {
      "text/plain": [
       "['spacy', 'is', 'cool']"
      ]
     },
     "execution_count": 18,
     "metadata": {},
     "output_type": "execute_result"
    }
   ],
   "source": [
    "##similiar to splitting on spaces\n",
    "doc.text.split(\" \")"
   ]
  },
  {
   "cell_type": "code",
   "execution_count": 21,
   "metadata": {},
   "outputs": [
    {
     "name": "stdout",
     "output_type": "stream",
     "text": [
      "spacy 13110060611322374290\n",
      "is 4370460163704169311\n",
      "cool 13110060611322374290\n"
     ]
    }
   ],
   "source": [
    "##word shape\n",
    "for word in doc:\n",
    "    print(word.text,word.shape)"
   ]
  },
  {
   "cell_type": "code",
   "execution_count": 22,
   "metadata": {},
   "outputs": [],
   "source": [
    "ex_doc=nlp(\"helllo HELLO HeLlo\")"
   ]
  },
  {
   "cell_type": "code",
   "execution_count": 24,
   "metadata": {},
   "outputs": [
    {
     "name": "stdout",
     "output_type": "stream",
     "text": [
      "token+> helllo shape xxxx True False\n",
      "token+> HELLO shape XXXX True False\n",
      "token+> HeLlo shape XxXxx True False\n"
     ]
    }
   ],
   "source": [
    "for word in ex_doc:\n",
    "    print(\"token+>\",word.text,\"shape\",word.shape_,word.is_alpha,word.is_stop)"
   ]
  },
  {
   "cell_type": "markdown",
   "metadata": {},
   "source": [
    "shape shows lowercase or upper case\n",
    "similary there are .is_aplha,is_stop"
   ]
  },
  {
   "cell_type": "markdown",
   "metadata": {},
   "source": [
    "# part of speech tagging"
   ]
  },
  {
   "cell_type": "code",
   "execution_count": 34,
   "metadata": {},
   "outputs": [],
   "source": [
    "ex=nlp(\"he drinks a drink\")"
   ]
  },
  {
   "cell_type": "code",
   "execution_count": 37,
   "metadata": {},
   "outputs": [
    {
     "name": "stdout",
     "output_type": "stream",
     "text": [
      "he PRON\n",
      "drinks VERB\n",
      "a DET\n",
      "drink NOUN\n"
     ]
    }
   ],
   "source": [
    "for word in ex:\n",
    "    print(word.text,word.pos_)"
   ]
  },
  {
   "cell_type": "code",
   "execution_count": 38,
   "metadata": {},
   "outputs": [],
   "source": [
    "ex2=nlp(\"i fish a fish\")"
   ]
  },
  {
   "cell_type": "code",
   "execution_count": 41,
   "metadata": {},
   "outputs": [
    {
     "name": "stdout",
     "output_type": "stream",
     "text": [
      "i PRON PRP\n",
      "fish VERB VBP\n",
      "a DET DT\n",
      "fish NOUN NN\n"
     ]
    }
   ],
   "source": [
    "for word in ex2:\n",
    "    print(word.text,word.pos_,word.tag_)"
   ]
  },
  {
   "cell_type": "code",
   "execution_count": 42,
   "metadata": {},
   "outputs": [
    {
     "data": {
      "text/plain": [
       "'determiner'"
      ]
     },
     "execution_count": 42,
     "metadata": {},
     "output_type": "execute_result"
    }
   ],
   "source": [
    "spacy.explain('DT')"
   ]
  },
  {
   "cell_type": "code",
   "execution_count": 45,
   "metadata": {},
   "outputs": [
    {
     "data": {
      "text/plain": [
       "'verb, past participle'"
      ]
     },
     "execution_count": 45,
     "metadata": {},
     "output_type": "execute_result"
    }
   ],
   "source": [
    "spacy.explain('VBN')"
   ]
  },
  {
   "cell_type": "code",
   "execution_count": 46,
   "metadata": {},
   "outputs": [
    {
     "data": {
      "text/plain": [
       "'verb, past tense'"
      ]
     },
     "execution_count": 46,
     "metadata": {},
     "output_type": "execute_result"
    }
   ],
   "source": [
    "spacy.explain('VBD')"
   ]
  },
  {
   "cell_type": "code",
   "execution_count": 43,
   "metadata": {},
   "outputs": [],
   "source": [
    "exercise=nlp(u\"All the faith he had had had had had no effect on the outome of his life\")"
   ]
  },
  {
   "cell_type": "code",
   "execution_count": 44,
   "metadata": {
    "scrolled": true
   },
   "outputs": [
    {
     "name": "stdout",
     "output_type": "stream",
     "text": [
      "('All', 'PDT', 'DET')\n",
      "('the', 'DT', 'DET')\n",
      "('faith', 'NN', 'NOUN')\n",
      "('he', 'PRP', 'PRON')\n",
      "('had', 'VBD', 'VERB')\n",
      "('had', 'VBN', 'VERB')\n",
      "('had', 'VBN', 'VERB')\n",
      "('had', 'VBN', 'VERB')\n",
      "('had', 'VBN', 'VERB')\n",
      "('no', 'DT', 'DET')\n",
      "('effect', 'NN', 'NOUN')\n",
      "('on', 'IN', 'ADP')\n",
      "('the', 'DT', 'DET')\n",
      "('outome', 'NN', 'NOUN')\n",
      "('of', 'IN', 'ADP')\n",
      "('his', 'PRP$', 'DET')\n",
      "('life', 'NN', 'NOUN')\n"
     ]
    }
   ],
   "source": [
    "for word in exercise:\n",
    "    print((word.text,word.tag_,word.pos_))\n",
    "    "
   ]
  },
  {
   "cell_type": "markdown",
   "metadata": {},
   "source": [
    "see the tagging in all the 'had'"
   ]
  },
  {
   "cell_type": "code",
   "execution_count": 47,
   "metadata": {},
   "outputs": [],
   "source": [
    "exe2=nlp(\"the man the professor the student has studies Rome.\")"
   ]
  },
  {
   "cell_type": "code",
   "execution_count": 48,
   "metadata": {},
   "outputs": [
    {
     "name": "stdout",
     "output_type": "stream",
     "text": [
      "('the', 'DT', 'DET')\n",
      "('man', 'NN', 'NOUN')\n",
      "('the', 'DT', 'DET')\n",
      "('professor', 'NN', 'NOUN')\n",
      "('the', 'DT', 'DET')\n",
      "('student', 'NN', 'NOUN')\n",
      "('has', 'VBZ', 'VERB')\n",
      "('studies', 'NNS', 'NOUN')\n",
      "('Rome', 'NNP', 'PROPN')\n",
      "('.', '.', 'PUNCT')\n"
     ]
    }
   ],
   "source": [
    "for word in exe2:\n",
    "    print((word.text,word.tag_,word.pos_))"
   ]
  },
  {
   "cell_type": "code",
   "execution_count": 49,
   "metadata": {},
   "outputs": [],
   "source": [
    "#syntaxical dependcies\n",
    "ex3=nlp(\"sally likes sam\")"
   ]
  },
  {
   "cell_type": "code",
   "execution_count": 50,
   "metadata": {},
   "outputs": [
    {
     "name": "stdout",
     "output_type": "stream",
     "text": [
      "('sally', 'RB', 'ADV', 'advmod')\n",
      "('likes', 'VBZ', 'VERB', 'ROOT')\n",
      "('sam', 'NN', 'NOUN', 'dobj')\n"
     ]
    }
   ],
   "source": [
    "for word in ex3:\n",
    "    print((word.text,word.tag_,word.pos_,word.dep_))"
   ]
  },
  {
   "cell_type": "code",
   "execution_count": 53,
   "metadata": {},
   "outputs": [
    {
     "data": {
      "text/plain": [
       "'adverbial modifier'"
      ]
     },
     "execution_count": 53,
     "metadata": {},
     "output_type": "execute_result"
    }
   ],
   "source": [
    "spacy.explain('advmod')"
   ]
  },
  {
   "cell_type": "code",
   "execution_count": 57,
   "metadata": {},
   "outputs": [],
   "source": [
    "spacy.explain('ROOT')"
   ]
  },
  {
   "cell_type": "code",
   "execution_count": 56,
   "metadata": {},
   "outputs": [
    {
     "data": {
      "text/plain": [
       "'direct object'"
      ]
     },
     "execution_count": 56,
     "metadata": {},
     "output_type": "execute_result"
    }
   ],
   "source": [
    "spacy.explain('dobj')"
   ]
  },
  {
   "cell_type": "markdown",
   "metadata": {},
   "source": [
    "# visual dependecy"
   ]
  },
  {
   "cell_type": "code",
   "execution_count": 59,
   "metadata": {},
   "outputs": [],
   "source": [
    "from spacy import displacy"
   ]
  },
  {
   "cell_type": "code",
   "execution_count": 61,
   "metadata": {},
   "outputs": [
    {
     "data": {
      "text/html": [
       "<svg xmlns=\"http://www.w3.org/2000/svg\" xmlns:xlink=\"http://www.w3.org/1999/xlink\" xml:lang=\"en\" id=\"460ce8ade35a4b1587963f0e7a8ee4f6-0\" class=\"displacy\" width=\"575\" height=\"224.5\" direction=\"ltr\" style=\"max-width: none; height: 224.5px; color: #000000; background: #ffffff; font-family: Arial; direction: ltr\">\n",
       "<text class=\"displacy-token\" fill=\"currentColor\" text-anchor=\"middle\" y=\"134.5\">\n",
       "    <tspan class=\"displacy-word\" fill=\"currentColor\" x=\"50\">sally</tspan>\n",
       "    <tspan class=\"displacy-tag\" dy=\"2em\" fill=\"currentColor\" x=\"50\">ADV</tspan>\n",
       "</text>\n",
       "\n",
       "<text class=\"displacy-token\" fill=\"currentColor\" text-anchor=\"middle\" y=\"134.5\">\n",
       "    <tspan class=\"displacy-word\" fill=\"currentColor\" x=\"225\">likes</tspan>\n",
       "    <tspan class=\"displacy-tag\" dy=\"2em\" fill=\"currentColor\" x=\"225\">VERB</tspan>\n",
       "</text>\n",
       "\n",
       "<text class=\"displacy-token\" fill=\"currentColor\" text-anchor=\"middle\" y=\"134.5\">\n",
       "    <tspan class=\"displacy-word\" fill=\"currentColor\" x=\"400\">sam</tspan>\n",
       "    <tspan class=\"displacy-tag\" dy=\"2em\" fill=\"currentColor\" x=\"400\">NOUN</tspan>\n",
       "</text>\n",
       "\n",
       "<g class=\"displacy-arrow\">\n",
       "    <path class=\"displacy-arc\" id=\"arrow-460ce8ade35a4b1587963f0e7a8ee4f6-0-0\" stroke-width=\"2px\" d=\"M70,89.5 C70,2.0 225.0,2.0 225.0,89.5\" fill=\"none\" stroke=\"currentColor\"/>\n",
       "    <text dy=\"1.25em\" style=\"font-size: 0.8em; letter-spacing: 1px\">\n",
       "        <textPath xlink:href=\"#arrow-460ce8ade35a4b1587963f0e7a8ee4f6-0-0\" class=\"displacy-label\" startOffset=\"50%\" side=\"left\" fill=\"currentColor\" text-anchor=\"middle\">advmod</textPath>\n",
       "    </text>\n",
       "    <path class=\"displacy-arrowhead\" d=\"M70,91.5 L62,79.5 78,79.5\" fill=\"currentColor\"/>\n",
       "</g>\n",
       "\n",
       "<g class=\"displacy-arrow\">\n",
       "    <path class=\"displacy-arc\" id=\"arrow-460ce8ade35a4b1587963f0e7a8ee4f6-0-1\" stroke-width=\"2px\" d=\"M245,89.5 C245,2.0 400.0,2.0 400.0,89.5\" fill=\"none\" stroke=\"currentColor\"/>\n",
       "    <text dy=\"1.25em\" style=\"font-size: 0.8em; letter-spacing: 1px\">\n",
       "        <textPath xlink:href=\"#arrow-460ce8ade35a4b1587963f0e7a8ee4f6-0-1\" class=\"displacy-label\" startOffset=\"50%\" side=\"left\" fill=\"currentColor\" text-anchor=\"middle\">dobj</textPath>\n",
       "    </text>\n",
       "    <path class=\"displacy-arrowhead\" d=\"M400.0,91.5 L408.0,79.5 392.0,79.5\" fill=\"currentColor\"/>\n",
       "</g>\n",
       "</svg>"
      ],
      "text/plain": [
       "<IPython.core.display.HTML object>"
      ]
     },
     "metadata": {},
     "output_type": "display_data"
    }
   ],
   "source": [
    "displacy.render(ex3,style='dep')"
   ]
  },
  {
   "cell_type": "markdown",
   "metadata": {},
   "source": [
    "# Lemmatizing\n",
    "reducing a word to base/root form"
   ]
  },
  {
   "cell_type": "code",
   "execution_count": 62,
   "metadata": {},
   "outputs": [],
   "source": [
    "import spacy"
   ]
  },
  {
   "cell_type": "code",
   "execution_count": 63,
   "metadata": {},
   "outputs": [],
   "source": [
    "docx=nlp(\"study studying\")"
   ]
  },
  {
   "cell_type": "code",
   "execution_count": 66,
   "metadata": {},
   "outputs": [
    {
     "name": "stdout",
     "output_type": "stream",
     "text": [
      "study study NOUN\n",
      "studying study VERB\n"
     ]
    }
   ],
   "source": [
    "for word in docx:\n",
    "    print(word.text,word.lemma_,word.pos_)"
   ]
  },
  {
   "cell_type": "markdown",
   "metadata": {},
   "source": [
    "# Named Entity recognition\n",
    ".ents\n",
    ".label_"
   ]
  },
  {
   "cell_type": "code",
   "execution_count": 81,
   "metadata": {},
   "outputs": [],
   "source": [
    "wikitext=nlp(\"By 2020 telecom company orange, will relocate from turkey to india\")"
   ]
  },
  {
   "cell_type": "code",
   "execution_count": 87,
   "metadata": {},
   "outputs": [
    {
     "name": "stdout",
     "output_type": "stream",
     "text": [
      "2020\n"
     ]
    }
   ],
   "source": [
    "for word in wikitext.ents:\n",
    "    print(word.text)"
   ]
  },
  {
   "cell_type": "code",
   "execution_count": 86,
   "metadata": {},
   "outputs": [
    {
     "name": "stdout",
     "output_type": "stream",
     "text": [
      "Rome GPE\n"
     ]
    }
   ],
   "source": [
    "for word in exe2.ents:\n",
    "    print(word.text,word.label_)"
   ]
  },
  {
   "cell_type": "code",
   "execution_count": 84,
   "metadata": {},
   "outputs": [
    {
     "data": {
      "text/plain": [
       "'Countries, cities, states'"
      ]
     },
     "execution_count": 84,
     "metadata": {},
     "output_type": "execute_result"
    }
   ],
   "source": [
    "spacy.explain('GPE')"
   ]
  },
  {
   "cell_type": "code",
   "execution_count": 85,
   "metadata": {},
   "outputs": [
    {
     "data": {
      "text/html": [
       "<div class=\"entities\" style=\"line-height: 2.5; direction: ltr\">By \n",
       "<mark class=\"entity\" style=\"background: #bfe1d9; padding: 0.45em 0.6em; margin: 0 0.25em; line-height: 1; border-radius: 0.35em; box-decoration-break: clone; -webkit-box-decoration-break: clone\">\n",
       "    2020\n",
       "    <span style=\"font-size: 0.8em; font-weight: bold; line-height: 1; border-radius: 0.35em; text-transform: uppercase; vertical-align: middle; margin-left: 0.5rem\">DATE</span>\n",
       "</mark>\n",
       " telecom company orange, will relocate from turkey to india</div>"
      ],
      "text/plain": [
       "<IPython.core.display.HTML object>"
      ]
     },
     "metadata": {},
     "output_type": "display_data"
    }
   ],
   "source": [
    "displacy.render(wikitext,style='ent')"
   ]
  },
  {
   "cell_type": "markdown",
   "metadata": {},
   "source": [
    "# semantic similarity\n",
    "-for recommendation systems\n",
    "-data preprocessing eg removing duplicates"
   ]
  },
  {
   "cell_type": "code",
   "execution_count": 119,
   "metadata": {},
   "outputs": [],
   "source": [
    "import en_core_web_lg\n",
    "nlp = en_core_web_lg.load()"
   ]
  },
  {
   "cell_type": "code",
   "execution_count": 120,
   "metadata": {},
   "outputs": [],
   "source": [
    "doc1=nlp(\"wolf\")"
   ]
  },
  {
   "cell_type": "code",
   "execution_count": 121,
   "metadata": {},
   "outputs": [],
   "source": [
    "doc2=nlp(\"dog\")"
   ]
  },
  {
   "cell_type": "code",
   "execution_count": 122,
   "metadata": {},
   "outputs": [
    {
     "data": {
      "text/plain": [
       "0.5206573188004238"
      ]
     },
     "execution_count": 122,
     "metadata": {},
     "output_type": "execute_result"
    }
   ],
   "source": [
    "doc1.similarity(doc2)"
   ]
  },
  {
   "cell_type": "markdown",
   "metadata": {},
   "source": [
    "closer to more similar"
   ]
  },
  {
   "cell_type": "code",
   "execution_count": 123,
   "metadata": {},
   "outputs": [],
   "source": [
    "doc3=nlp(\"cat\")"
   ]
  },
  {
   "cell_type": "code",
   "execution_count": 124,
   "metadata": {},
   "outputs": [
    {
     "data": {
      "text/plain": [
       "0.8016854705531046"
      ]
     },
     "execution_count": 124,
     "metadata": {},
     "output_type": "execute_result"
    }
   ],
   "source": [
    "doc2.similarity(doc3)"
   ]
  },
  {
   "cell_type": "code",
   "execution_count": 117,
   "metadata": {},
   "outputs": [],
   "source": [
    "doc4=nlp(\"clever\")\n",
    "doc5=nlp(\"smart\")"
   ]
  },
  {
   "cell_type": "code",
   "execution_count": 127,
   "metadata": {},
   "outputs": [
    {
     "data": {
      "text/plain": [
       "0.6583482458106189"
      ]
     },
     "execution_count": 127,
     "metadata": {},
     "output_type": "execute_result"
    }
   ],
   "source": [
    "doc5.similarity(doc4)"
   ]
  },
  {
   "cell_type": "code",
   "execution_count": 151,
   "metadata": {},
   "outputs": [],
   "source": [
    "ex1=nlp(\"wolf dog cat bird fish\")"
   ]
  },
  {
   "cell_type": "code",
   "execution_count": 130,
   "metadata": {},
   "outputs": [
    {
     "name": "stdout",
     "output_type": "stream",
     "text": [
      "('wold', 'wold') similarity=> 1.0\n",
      "('wold', 'dog') similarity=> 0.18086264\n",
      "('wold', 'cat') similarity=> 0.15850338\n",
      "('wold', 'bird') similarity=> 0.21643913\n",
      "('wold', 'fish') similarity=> 0.13543019\n",
      "('dog', 'wold') similarity=> 0.18086264\n",
      "('dog', 'dog') similarity=> 1.0\n",
      "('dog', 'cat') similarity=> 0.80168545\n",
      "('dog', 'bird') similarity=> 0.47875515\n",
      "('dog', 'fish') similarity=> 0.40854338\n",
      "('cat', 'wold') similarity=> 0.15850338\n",
      "('cat', 'dog') similarity=> 0.80168545\n",
      "('cat', 'cat') similarity=> 1.0\n",
      "('cat', 'bird') similarity=> 0.5236873\n",
      "('cat', 'fish') similarity=> 0.4180654\n",
      "('bird', 'wold') similarity=> 0.21643913\n",
      "('bird', 'dog') similarity=> 0.47875515\n",
      "('bird', 'cat') similarity=> 0.5236873\n",
      "('bird', 'bird') similarity=> 1.0\n",
      "('bird', 'fish') similarity=> 0.5582421\n",
      "('fish', 'wold') similarity=> 0.13543019\n",
      "('fish', 'dog') similarity=> 0.40854338\n",
      "('fish', 'cat') similarity=> 0.4180654\n",
      "('fish', 'bird') similarity=> 0.5582421\n",
      "('fish', 'fish') similarity=> 1.0\n"
     ]
    }
   ],
   "source": [
    "for token1 in ex1:\n",
    "    for token2 in ex1:\n",
    "        print((token1.text,token2.text),\"similarity=>\",token1.similarity(token2))"
   ]
  },
  {
   "cell_type": "code",
   "execution_count": 152,
   "metadata": {},
   "outputs": [],
   "source": [
    "mylist=[(token1.text,token2.text,token1.similarity(token2)) for token2 in ex1 for token1 in ex1]"
   ]
  },
  {
   "cell_type": "code",
   "execution_count": 153,
   "metadata": {},
   "outputs": [
    {
     "data": {
      "text/plain": [
       "[('wolf', 'wolf', 1.0),\n",
       " ('dog', 'wolf', 0.5206573),\n",
       " ('cat', 'wolf', 0.5081626),\n",
       " ('bird', 'wolf', 0.49714813),\n",
       " ('fish', 'wolf', 0.36875135),\n",
       " ('wolf', 'dog', 0.5206573),\n",
       " ('dog', 'dog', 1.0),\n",
       " ('cat', 'dog', 0.80168545),\n",
       " ('bird', 'dog', 0.47875515),\n",
       " ('fish', 'dog', 0.40854338),\n",
       " ('wolf', 'cat', 0.5081626),\n",
       " ('dog', 'cat', 0.80168545),\n",
       " ('cat', 'cat', 1.0),\n",
       " ('bird', 'cat', 0.5236873),\n",
       " ('fish', 'cat', 0.4180654),\n",
       " ('wolf', 'bird', 0.49714813),\n",
       " ('dog', 'bird', 0.47875515),\n",
       " ('cat', 'bird', 0.5236873),\n",
       " ('bird', 'bird', 1.0),\n",
       " ('fish', 'bird', 0.5582421),\n",
       " ('wolf', 'fish', 0.36875135),\n",
       " ('dog', 'fish', 0.40854338),\n",
       " ('cat', 'fish', 0.4180654),\n",
       " ('bird', 'fish', 0.5582421),\n",
       " ('fish', 'fish', 1.0)]"
      ]
     },
     "execution_count": 153,
     "metadata": {},
     "output_type": "execute_result"
    }
   ],
   "source": [
    "mylist"
   ]
  },
  {
   "cell_type": "code",
   "execution_count": 154,
   "metadata": {},
   "outputs": [],
   "source": [
    "import pandas as pd"
   ]
  },
  {
   "cell_type": "code",
   "execution_count": 155,
   "metadata": {},
   "outputs": [],
   "source": [
    "df=pd.DataFrame(mylist,columns=['token1','token2','similarity'])"
   ]
  },
  {
   "cell_type": "code",
   "execution_count": 156,
   "metadata": {},
   "outputs": [
    {
     "data": {
      "text/html": [
       "<div>\n",
       "<style scoped>\n",
       "    .dataframe tbody tr th:only-of-type {\n",
       "        vertical-align: middle;\n",
       "    }\n",
       "\n",
       "    .dataframe tbody tr th {\n",
       "        vertical-align: top;\n",
       "    }\n",
       "\n",
       "    .dataframe thead th {\n",
       "        text-align: right;\n",
       "    }\n",
       "</style>\n",
       "<table border=\"1\" class=\"dataframe\">\n",
       "  <thead>\n",
       "    <tr style=\"text-align: right;\">\n",
       "      <th></th>\n",
       "      <th>token1</th>\n",
       "      <th>token2</th>\n",
       "      <th>similarity</th>\n",
       "    </tr>\n",
       "  </thead>\n",
       "  <tbody>\n",
       "    <tr>\n",
       "      <th>0</th>\n",
       "      <td>wolf</td>\n",
       "      <td>wolf</td>\n",
       "      <td>1.000000</td>\n",
       "    </tr>\n",
       "    <tr>\n",
       "      <th>1</th>\n",
       "      <td>dog</td>\n",
       "      <td>wolf</td>\n",
       "      <td>0.520657</td>\n",
       "    </tr>\n",
       "    <tr>\n",
       "      <th>2</th>\n",
       "      <td>cat</td>\n",
       "      <td>wolf</td>\n",
       "      <td>0.508163</td>\n",
       "    </tr>\n",
       "    <tr>\n",
       "      <th>3</th>\n",
       "      <td>bird</td>\n",
       "      <td>wolf</td>\n",
       "      <td>0.497148</td>\n",
       "    </tr>\n",
       "    <tr>\n",
       "      <th>4</th>\n",
       "      <td>fish</td>\n",
       "      <td>wolf</td>\n",
       "      <td>0.368751</td>\n",
       "    </tr>\n",
       "    <tr>\n",
       "      <th>5</th>\n",
       "      <td>wolf</td>\n",
       "      <td>dog</td>\n",
       "      <td>0.520657</td>\n",
       "    </tr>\n",
       "    <tr>\n",
       "      <th>6</th>\n",
       "      <td>dog</td>\n",
       "      <td>dog</td>\n",
       "      <td>1.000000</td>\n",
       "    </tr>\n",
       "    <tr>\n",
       "      <th>7</th>\n",
       "      <td>cat</td>\n",
       "      <td>dog</td>\n",
       "      <td>0.801685</td>\n",
       "    </tr>\n",
       "    <tr>\n",
       "      <th>8</th>\n",
       "      <td>bird</td>\n",
       "      <td>dog</td>\n",
       "      <td>0.478755</td>\n",
       "    </tr>\n",
       "    <tr>\n",
       "      <th>9</th>\n",
       "      <td>fish</td>\n",
       "      <td>dog</td>\n",
       "      <td>0.408543</td>\n",
       "    </tr>\n",
       "    <tr>\n",
       "      <th>10</th>\n",
       "      <td>wolf</td>\n",
       "      <td>cat</td>\n",
       "      <td>0.508163</td>\n",
       "    </tr>\n",
       "    <tr>\n",
       "      <th>11</th>\n",
       "      <td>dog</td>\n",
       "      <td>cat</td>\n",
       "      <td>0.801685</td>\n",
       "    </tr>\n",
       "    <tr>\n",
       "      <th>12</th>\n",
       "      <td>cat</td>\n",
       "      <td>cat</td>\n",
       "      <td>1.000000</td>\n",
       "    </tr>\n",
       "    <tr>\n",
       "      <th>13</th>\n",
       "      <td>bird</td>\n",
       "      <td>cat</td>\n",
       "      <td>0.523687</td>\n",
       "    </tr>\n",
       "    <tr>\n",
       "      <th>14</th>\n",
       "      <td>fish</td>\n",
       "      <td>cat</td>\n",
       "      <td>0.418065</td>\n",
       "    </tr>\n",
       "    <tr>\n",
       "      <th>15</th>\n",
       "      <td>wolf</td>\n",
       "      <td>bird</td>\n",
       "      <td>0.497148</td>\n",
       "    </tr>\n",
       "    <tr>\n",
       "      <th>16</th>\n",
       "      <td>dog</td>\n",
       "      <td>bird</td>\n",
       "      <td>0.478755</td>\n",
       "    </tr>\n",
       "    <tr>\n",
       "      <th>17</th>\n",
       "      <td>cat</td>\n",
       "      <td>bird</td>\n",
       "      <td>0.523687</td>\n",
       "    </tr>\n",
       "    <tr>\n",
       "      <th>18</th>\n",
       "      <td>bird</td>\n",
       "      <td>bird</td>\n",
       "      <td>1.000000</td>\n",
       "    </tr>\n",
       "    <tr>\n",
       "      <th>19</th>\n",
       "      <td>fish</td>\n",
       "      <td>bird</td>\n",
       "      <td>0.558242</td>\n",
       "    </tr>\n",
       "    <tr>\n",
       "      <th>20</th>\n",
       "      <td>wolf</td>\n",
       "      <td>fish</td>\n",
       "      <td>0.368751</td>\n",
       "    </tr>\n",
       "    <tr>\n",
       "      <th>21</th>\n",
       "      <td>dog</td>\n",
       "      <td>fish</td>\n",
       "      <td>0.408543</td>\n",
       "    </tr>\n",
       "    <tr>\n",
       "      <th>22</th>\n",
       "      <td>cat</td>\n",
       "      <td>fish</td>\n",
       "      <td>0.418065</td>\n",
       "    </tr>\n",
       "    <tr>\n",
       "      <th>23</th>\n",
       "      <td>bird</td>\n",
       "      <td>fish</td>\n",
       "      <td>0.558242</td>\n",
       "    </tr>\n",
       "    <tr>\n",
       "      <th>24</th>\n",
       "      <td>fish</td>\n",
       "      <td>fish</td>\n",
       "      <td>1.000000</td>\n",
       "    </tr>\n",
       "  </tbody>\n",
       "</table>\n",
       "</div>"
      ],
      "text/plain": [
       "   token1 token2  similarity\n",
       "0    wolf   wolf    1.000000\n",
       "1     dog   wolf    0.520657\n",
       "2     cat   wolf    0.508163\n",
       "3    bird   wolf    0.497148\n",
       "4    fish   wolf    0.368751\n",
       "5    wolf    dog    0.520657\n",
       "6     dog    dog    1.000000\n",
       "7     cat    dog    0.801685\n",
       "8    bird    dog    0.478755\n",
       "9    fish    dog    0.408543\n",
       "10   wolf    cat    0.508163\n",
       "11    dog    cat    0.801685\n",
       "12    cat    cat    1.000000\n",
       "13   bird    cat    0.523687\n",
       "14   fish    cat    0.418065\n",
       "15   wolf   bird    0.497148\n",
       "16    dog   bird    0.478755\n",
       "17    cat   bird    0.523687\n",
       "18   bird   bird    1.000000\n",
       "19   fish   bird    0.558242\n",
       "20   wolf   fish    0.368751\n",
       "21    dog   fish    0.408543\n",
       "22    cat   fish    0.418065\n",
       "23   bird   fish    0.558242\n",
       "24   fish   fish    1.000000"
      ]
     },
     "execution_count": 156,
     "metadata": {},
     "output_type": "execute_result"
    }
   ],
   "source": [
    "df"
   ]
  },
  {
   "cell_type": "code",
   "execution_count": 157,
   "metadata": {},
   "outputs": [],
   "source": [
    "df_viz=df.replace({'wolf':0,'dog':1,'cat':2,'bird':3,'fish':4})"
   ]
  },
  {
   "cell_type": "code",
   "execution_count": 158,
   "metadata": {},
   "outputs": [],
   "source": [
    "import matplotlib.pyplot as plt"
   ]
  },
  {
   "cell_type": "code",
   "execution_count": 159,
   "metadata": {},
   "outputs": [],
   "source": [
    "import seaborn as sns\n",
    "%matplotlib inline"
   ]
  },
  {
   "cell_type": "code",
   "execution_count": 160,
   "metadata": {},
   "outputs": [
    {
     "data": {
      "image/png": "[encoded data removed]",
      "text/plain": [
       "<Figure size 1440x720 with 2 Axes>"
      ]
     },
     "metadata": {
      "needs_background": "light"
     },
     "output_type": "display_data"
    }
   ],
   "source": [
    "plt.figure(figsize=(20,10))\n",
    "sns.heatmap(df_viz.corr(),annot=True)\n",
    "plt.show()"
   ]
  },
  {
   "cell_type": "code",
   "execution_count": 162,
   "metadata": {},
   "outputs": [
    {
     "data": {
      "text/html": [
       "<div>\n",
       "<style scoped>\n",
       "    .dataframe tbody tr th:only-of-type {\n",
       "        vertical-align: middle;\n",
       "    }\n",
       "\n",
       "    .dataframe tbody tr th {\n",
       "        vertical-align: top;\n",
       "    }\n",
       "\n",
       "    .dataframe thead th {\n",
       "        text-align: right;\n",
       "    }\n",
       "</style>\n",
       "<table border=\"1\" class=\"dataframe\">\n",
       "  <thead>\n",
       "    <tr style=\"text-align: right;\">\n",
       "      <th></th>\n",
       "      <th>token1</th>\n",
       "      <th>token2</th>\n",
       "      <th>similarity</th>\n",
       "    </tr>\n",
       "  </thead>\n",
       "  <tbody>\n",
       "    <tr>\n",
       "      <th>0</th>\n",
       "      <td>0</td>\n",
       "      <td>0</td>\n",
       "      <td>1.000000</td>\n",
       "    </tr>\n",
       "    <tr>\n",
       "      <th>1</th>\n",
       "      <td>1</td>\n",
       "      <td>0</td>\n",
       "      <td>0.520657</td>\n",
       "    </tr>\n",
       "    <tr>\n",
       "      <th>2</th>\n",
       "      <td>2</td>\n",
       "      <td>0</td>\n",
       "      <td>0.508163</td>\n",
       "    </tr>\n",
       "    <tr>\n",
       "      <th>3</th>\n",
       "      <td>3</td>\n",
       "      <td>0</td>\n",
       "      <td>0.497148</td>\n",
       "    </tr>\n",
       "    <tr>\n",
       "      <th>4</th>\n",
       "      <td>4</td>\n",
       "      <td>0</td>\n",
       "      <td>0.368751</td>\n",
       "    </tr>\n",
       "  </tbody>\n",
       "</table>\n",
       "</div>"
      ],
      "text/plain": [
       "   token1  token2  similarity\n",
       "0       0       0    1.000000\n",
       "1       1       0    0.520657\n",
       "2       2       0    0.508163\n",
       "3       3       0    0.497148\n",
       "4       4       0    0.368751"
      ]
     },
     "execution_count": 162,
     "metadata": {},
     "output_type": "execute_result"
    }
   ],
   "source": [
    "df_viz.head(5)"
   ]
  },
  {
   "cell_type": "code",
   "execution_count": 165,
   "metadata": {},
   "outputs": [],
   "source": [
    "##stopwords\n",
    "#reduces features makes ML faster"
   ]
  },
  {
   "cell_type": "code",
   "execution_count": 166,
   "metadata": {},
   "outputs": [],
   "source": [
    "from spacy.lang.en.stop_words import STOP_WORDS"
   ]
  },
  {
   "cell_type": "code",
   "execution_count": 167,
   "metadata": {},
   "outputs": [
    {
     "name": "stdout",
     "output_type": "stream",
     "text": [
      "{\"'d\", 'using', 'whoever', 'to', 'within', 'anyone', 'into', 'thereafter', 'am', 'eight', 'nevertheless', 'onto', 'would', 'n’t', 'whole', 'thru', 'indeed', 'beforehand', 'in', 'whom', 'due', 'became', 'where', 'is', 'done', 'full', 'wherever', 'sometimes', 'here', 'across', 'amongst', 'they', 'part', 'unless', 'or', 'too', 'mostly', \"'s\", '’m', 'sometime', 'besides', 'already', \"'re\", 'such', 'either', 'always', '‘m', 'beside', 'between', 'so', 'otherwise', 'own', 'put', 'noone', 'other', 'herein', 'meanwhile', 'her', \"'ve\", 'formerly', 'should', 'ever', '‘ll', 'also', 'an', 'did', 'least', 'and', 'around', 'others', 'most', 'until', 'used', 'move', 'behind', 'nothing', 'out', 'further', 'him', 'being', 'at', 'it', 'name', 'under', 'now', 'can', '’ll', 'from', 'seeming', 'your', 'rather', 'something', 'then', 'seemed', 'much', 'per', 'of', 're', 'this', 'eleven', 'though', 'no', 'empty', 'often', 'somewhere', 'yours', 'else', 'could', 'ca', 'has', 'next', \"n't\", 'namely', 'i', \"'ll\", 'sixty', 'fifty', 'before', 'among', 'hers', 'themselves', 'becoming', 'fifteen', 'beyond', 'ten', 'whose', 'over', 'alone', 'itself', 'be', '’ve', 'well', 'who', 'along', 'serious', 'several', 'amount', 'which', 'nobody', 'same', 'less', 'last', 'anyhow', 'them', 'herself', 'keep', 'twenty', 'anything', 'one', 'hereby', 'top', 'but', 'nor', 'via', 'twelve', 'very', 'both', 'please', 'when', 'give', 'thereupon', 'do', 'our', \"'m\", 'more', 'someone', 'how', 'still', 'their', 'however', 'moreover', 'some', 'various', 'somehow', 'two', 'whatever', 'through', 'each', 'have', 'those', 'everyone', 'that', 'towards', 'go', 'was', 'side', 'enough', 'seems', 'hence', 'without', 'nine', 'upon', 'whereby', 'becomes', 'myself', 'see', 'again', '’re', 'up', 'wherein', 'whether', 'will', 'anywhere', 'regarding', 'every', 'yourself', 'once', 'down', 'show', 'yet', 'these', 'whereupon', 'about', 'anyway', 'throughout', 'a', 'its', 'are', 'than', 'front', '‘d', 'since', 'against', 'any', 'never', 'none', 'three', 'take', '’d', 'another', 'almost', 'we', 'thus', 'made', 'on', 'neither', 'afterwards', 'elsewhere', 'bottom', 'really', 'been', 'you', 'she', 'had', 'us', 'whereas', 'toward', 'my', 'there', 'former', 'as', 'his', 'thereby', 'everything', 'what', 'perhaps', '‘re', 'latterly', 'whither', 'hundred', 'above', 'not', 'ours', 'together', 'back', 'although', 'everywhere', 'even', 'below', '’s', 'only', 'latter', 'therefore', 'might', 'quite', 'does', 'thence', 'ourselves', 'whence', 'first', 'nowhere', 'me', 'by', 'if', 'get', 'whenever', 'call', 'yourselves', 'seem', 'just', 'for', 'become', 'were', 'cannot', 'during', '‘ve', 'off', 'doing', 'the', 'may', 'must', 'why', 'except', 'hereafter', 'six', '‘s', 'himself', 'third', 'because', 'mine', 'forty', 'with', 'all', 'while', 'hereupon', 'make', 'say', 'after', 'many', 'few', 'whereafter', 'therein', 'he', 'four', 'five', 'n‘t'}\n"
     ]
    }
   ],
   "source": [
    "print(STOP_WORDS)"
   ]
  },
  {
   "cell_type": "code",
   "execution_count": 168,
   "metadata": {},
   "outputs": [
    {
     "data": {
      "text/plain": [
       "False"
      ]
     },
     "execution_count": 168,
     "metadata": {},
     "output_type": "execute_result"
    }
   ],
   "source": [
    "nlp.vocab[\"Theme\"].is_stop"
   ]
  },
  {
   "cell_type": "code",
   "execution_count": 170,
   "metadata": {},
   "outputs": [],
   "source": [
    "mysent=nlp(u\"this sentences is about how to use stop words\")"
   ]
  },
  {
   "cell_type": "code",
   "execution_count": 172,
   "metadata": {},
   "outputs": [
    {
     "name": "stdout",
     "output_type": "stream",
     "text": [
      "this\n",
      "is\n",
      "about\n",
      "how\n",
      "to\n"
     ]
    }
   ],
   "source": [
    "for word in mysent:\n",
    "    if word.is_stop==True:\n",
    "        print(word)"
   ]
  },
  {
   "cell_type": "code",
   "execution_count": 178,
   "metadata": {},
   "outputs": [
    {
     "name": "stdout",
     "output_type": "stream",
     "text": [
      "sentences\n",
      "use\n",
      "stop\n",
      "words\n"
     ]
    }
   ],
   "source": [
    "for word in mysent:\n",
    "    if word.is_stop==False:\n",
    "        print(word)"
   ]
  },
  {
   "cell_type": "code",
   "execution_count": 173,
   "metadata": {},
   "outputs": [],
   "source": [
    "##to add stop words"
   ]
  },
  {
   "cell_type": "code",
   "execution_count": 183,
   "metadata": {},
   "outputs": [],
   "source": [
    "STOP_WORDS.add(\"aa\")"
   ]
  },
  {
   "cell_type": "code",
   "execution_count": 184,
   "metadata": {},
   "outputs": [
    {
     "data": {
      "text/plain": [
       "True"
      ]
     },
     "execution_count": 184,
     "metadata": {},
     "output_type": "execute_result"
    }
   ],
   "source": [
    "nlp.vocab[\"aa\"].is_stop### not working in large model"
   ]
  },
  {
   "cell_type": "markdown",
   "metadata": {},
   "source": [
    "# Noun chunks"
   ]
  },
  {
   "cell_type": "code",
   "execution_count": 182,
   "metadata": {},
   "outputs": [],
   "source": [
    "nlp=spacy.load('en')"
   ]
  },
  {
   "cell_type": "code",
   "execution_count": 185,
   "metadata": {},
   "outputs": [],
   "source": [
    "docx=nlp(u\"the man reading the news is very tall\")"
   ]
  },
  {
   "cell_type": "code",
   "execution_count": 186,
   "metadata": {},
   "outputs": [
    {
     "name": "stdout",
     "output_type": "stream",
     "text": [
      "the man\n",
      "the news\n"
     ]
    }
   ],
   "source": [
    "for token in docx.noun_chunks:\n",
    "    print(token.text)"
   ]
  },
  {
   "cell_type": "code",
   "execution_count": 187,
   "metadata": {},
   "outputs": [
    {
     "name": "stdout",
     "output_type": "stream",
     "text": [
      "man\n",
      "news\n"
     ]
    }
   ],
   "source": [
    "##Root text\n",
    "for token in docx.noun_chunks:\n",
    "    print(token.root.text)"
   ]
  },
  {
   "cell_type": "code",
   "execution_count": 188,
   "metadata": {},
   "outputs": [
    {
     "name": "stdout",
     "output_type": "stream",
     "text": [
      "man connector_text: is\n",
      "news connector_text: reading\n"
     ]
    }
   ],
   "source": [
    "for token in docx.noun_chunks:\n",
    "    print(token.root.text,\"connector_text:\",token.root.head.text)"
   ]
  },
  {
   "cell_type": "markdown",
   "metadata": {},
   "source": [
    "# Senetence Segmentation Boundary detection"
   ]
  },
  {
   "cell_type": "code",
   "execution_count": 194,
   "metadata": {},
   "outputs": [],
   "source": [
    "nlp=spacy.load('en')"
   ]
  },
  {
   "cell_type": "code",
   "execution_count": 195,
   "metadata": {},
   "outputs": [],
   "source": [
    "def mycustom_boundary(docx):\n",
    "    if token.text == '--':\n",
    "        docx[token,i+1].is_Sent_start==True\n",
    "    return docx    \n",
    "        "
   ]
  },
  {
   "cell_type": "code",
   "execution_count": 197,
   "metadata": {},
   "outputs": [],
   "source": [
    "nlp.add_pipe(mycustom_boundary,before='parser')"
   ]
  },
  {
   "cell_type": "code",
   "execution_count": 203,
   "metadata": {},
   "outputs": [],
   "source": [
    "mysentence=nlp(u\"This is my first sentence--the last comment was xoxo--goood morning--hello\")"
   ]
  },
  {
   "cell_type": "code",
   "execution_count": 204,
   "metadata": {},
   "outputs": [
    {
     "name": "stdout",
     "output_type": "stream",
     "text": [
      "This is my first sentence--the last comment was xoxo--goood morning--hello\n"
     ]
    }
   ],
   "source": [
    "for sent in mysentence.sents:\n",
    "    print(sent)"
   ]
  },
  {
   "cell_type": "code",
   "execution_count": 205,
   "metadata": {},
   "outputs": [],
   "source": [
    "##custom Rule based"
   ]
  },
  {
   "cell_type": "code",
   "execution_count": 208,
   "metadata": {},
   "outputs": [],
   "source": [
    "##see documenatio"
   ]
  },
  {
   "cell_type": "code",
   "execution_count": null,
   "metadata": {},
   "outputs": [],
   "source": []
  }
 ],
 "metadata": {
  "kernelspec": {
   "display_name": "Python 3",
   "language": "python",
   "name": "python3"
  },
  "language_info": {
   "codemirror_mode": {
    "name": "ipython",
    "version": 3
   },
   "file_extension": ".py",
   "mimetype": "text/x-python",
   "name": "python",
   "nbconvert_exporter": "python",
   "pygments_lexer": "ipython3",
   "version": "3.7.1"
  }
 },
 "nbformat": 4,
 "nbformat_minor": 2
}
